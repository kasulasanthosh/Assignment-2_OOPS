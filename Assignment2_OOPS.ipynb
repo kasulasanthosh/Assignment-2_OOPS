{
 "cells": [
  {
   "cell_type": "code",
   "execution_count": null,
   "id": "e8134249-e520-4dd7-b14f-263c2e6aba99",
   "metadata": {},
   "outputs": [],
   "source": [
    "# 1. What is a constructor in Python? Explain its purpose and usage.\n",
    "Constructors in Python is a special class method for creating and initializing an object instance at that class.\n",
    "A constructor is a unique function that gets called automatically when an object is created of a class. \n",
    "The main purpose of a constructor is to initialize or assign values to the data members of that class\n",
    "We use constructors to initialize the object with the default or initial state."
   ]
  },
  {
   "cell_type": "code",
   "execution_count": null,
   "id": "295e9cfa-56e3-4d96-9ba8-705c2503a7dc",
   "metadata": {},
   "outputs": [],
   "source": [
    "# 2. Differentiate between a parameterless constructor and a parameterized constructor in Python.\n",
    "Parameterized Constructor: A parameterized constructor is a constructor that takes one or more arguments. \n",
    "It is used to create an object with custom values for its attributes. \n",
    "Non-Parameterized Constructor: A non-parameterized constructor is a constructor that does not take any arguments.\n"
   ]
  },
  {
   "cell_type": "code",
   "execution_count": null,
   "id": "6ee5dc68-63db-4535-bb4a-94b935a92737",
   "metadata": {},
   "outputs": [],
   "source": [
    "#3. How do you define a constructor in a Python class? Provide an example.\n",
    "Constructors are generally used for instantiating an object. The task of constructors is to initialize(assign values) to the \n",
    "data members of the class when an object of class is created.\n",
    "In Python the __init__() method is called the constructor and is always called when an object is created.\n",
    "class Person:\n",
    "    def __init__(self, name, age):\n",
    "        self.name = name\n",
    "        self.age = age\n",
    "p1 = Person(\"santhosh\", 38)\n",
    "print(p1.name)\n",
    "print(p1.age)"
   ]
  },
  {
   "cell_type": "code",
   "execution_count": null,
   "id": "cd375d02-8bc8-405d-bce5-bd72b5155d5c",
   "metadata": {},
   "outputs": [],
   "source": [
    "# 4. Explain the `__init__` method in Python and its role in constructors.\n",
    "The constructor method must be named __init__. This is a special name that is recognized by Python as the constructor method.\n",
    "The first argument of the constructor method must be self. This is a reference to the object itself, and it is used to access the object’s attributes and methods.\n",
    "The constructor method must be defined inside the class definition. The constructor method is called automatically when an object is created. "
   ]
  },
  {
   "cell_type": "code",
   "execution_count": 1,
   "id": "fd9a4f3b-a7af-4156-b8ea-370081f5e70b",
   "metadata": {},
   "outputs": [
    {
     "name": "stdout",
     "output_type": "stream",
     "text": [
      "santhosh\n",
      "38\n"
     ]
    }
   ],
   "source": [
    "# 5. In a class named `Person`, create a constructor that initializes the `name` and `age` attributes. Provide an example of creating an object of this class.\n",
    "class Person:\n",
    "    def __init__(self, name, age):\n",
    "        self.name = name\n",
    "        self.age = age\n",
    "p1 = Person(\"santhosh\", 38)\n",
    "print(p1.name)\n",
    "print(p1.age)"
   ]
  },
  {
   "cell_type": "code",
   "execution_count": null,
   "id": "dda4dd04-2c3c-4633-b2fe-ea5f55e65469",
   "metadata": {},
   "outputs": [],
   "source": [
    "# 7. What is the significance of the `self` parameter in Python constructors? Explain with an example.\n",
    "'Self' represents the instance of the class. By using the “self” we can access the attributes and methods of the class in Python. \n",
    "It binds the attributes with the given arguments\n",
    "class Person:\n",
    "    def __init__(self, name, age):\n",
    "        self.name = name\n",
    "        self.age = age\n",
    "\n",
    "p1 = Person(\"santhosh\", 38)\n",
    "print(p1.name)\n",
    "print(p1.age)"
   ]
  },
  {
   "cell_type": "code",
   "execution_count": null,
   "id": "44fc5e2a-5eda-47e2-9a5c-729ca244ad82",
   "metadata": {},
   "outputs": [],
   "source": [
    "# 8. Discuss the concept of default constructors in Python. When are they used?\n",
    "A default constructor is a constructor that takes no arguments. It is used to create an object with default values for its attributes\n",
    "Default constructors are useful when you want to create an object with a predefined set of attributes, \n",
    "but you don’t want to specify the values of those attributes when the object is created."
   ]
  },
  {
   "cell_type": "code",
   "execution_count": 5,
   "id": "cf922843-31c4-402f-b813-77a6a476fa41",
   "metadata": {},
   "outputs": [],
   "source": [
    "''' 9. Create a Python class called `Rectangle` with a constructor that initializes the `width` and `height` attributes. \n",
    "Provide a method to calculate the area of the rectangle.'''\n",
    "class Rectangle:\n",
    "    def __init__(self,width,height):\n",
    "        self.width=width\n",
    "        self.height=height\n",
    "    def area(self):\n",
    "        area_rectangle=self.width*self.height\n",
    "        print(\"the area of rectangle:\",area_rectangle)"
   ]
  },
  {
   "cell_type": "code",
   "execution_count": 6,
   "id": "f3f3c77d-3fde-4088-b827-8d6f6927ea3a",
   "metadata": {},
   "outputs": [],
   "source": [
    "rect=Rectangle(10,20)"
   ]
  },
  {
   "cell_type": "code",
   "execution_count": 7,
   "id": "343873ca-421f-430f-8a44-8448ce30847b",
   "metadata": {},
   "outputs": [
    {
     "name": "stdout",
     "output_type": "stream",
     "text": [
      "the area of rectangle: 200\n"
     ]
    }
   ],
   "source": [
    "rect.area()"
   ]
  },
  {
   "cell_type": "code",
   "execution_count": 24,
   "id": "ecfd9b35-292f-4ee8-aad7-eba150b9b650",
   "metadata": {},
   "outputs": [],
   "source": [
    "# 10. How can you have multiple constructors in a Python class? Explain with an example.\n",
    "'''We can have more than one constructor in a single Python class. This is known as “method overloading”. \n",
    "To do this, you will need to use the same method name but define the method with different numbers or types of arguments.'''\n",
    "class MyClass:\n",
    "    def __init__(self, arg1, arg2):\n",
    "        self.arg1 = arg1\n",
    "        self.arg2 = arg2\n",
    "    \n",
    "    def __init__(self, arg1):\n",
    "        self.arg1 = arg1\n",
    "        self.arg2 = None\n",
    "        \n",
    "#obj1 = MyClass(10, 20)\n",
    "obj2 = MyClass(30)"
   ]
  },
  {
   "cell_type": "code",
   "execution_count": 25,
   "id": "a1b6d6ca-8e29-4164-b53f-3e0b0ec7b1e4",
   "metadata": {},
   "outputs": [
    {
     "data": {
      "text/plain": [
       "10"
      ]
     },
     "execution_count": 25,
     "metadata": {},
     "output_type": "execute_result"
    }
   ],
   "source": [
    "obj1.arg1"
   ]
  },
  {
   "cell_type": "code",
   "execution_count": null,
   "id": "a323ea07-ca89-4f67-aed8-25c23984f315",
   "metadata": {},
   "outputs": [],
   "source": [
    "#11. What is method overloading, and how is it related to constructors in Python?\n",
    "Two or more methods have the same name but different numbers of parameters or different types of parameters, or both. \n",
    "These methods are called  method overloading. The problem with method overloading in Python is that we may overload the methods but can only use the latest defined method. \n",
    "\n",
    "?????"
   ]
  },
  {
   "cell_type": "code",
   "execution_count": 21,
   "id": "eadccca8-de07-401d-99e3-367e60daac6e",
   "metadata": {},
   "outputs": [],
   "source": [
    "#12. Explain the use of the `super()` function in Python constructors. Provide an example.\n",
    "'''The super() function is used to give access to methods and properties of a parent or sibling class.\n",
    "The super() function returns an object that represents the parent class.'''\n",
    "\n",
    "class person:\n",
    "    def __init__(self,firstname,lastname):\n",
    "        self.firstname=firstname\n",
    "        self.lastname=lastname\n",
    "    def print_name(self):\n",
    "        print(self.firstname,'',self.lastname)\n",
    "class student(person):\n",
    "    def __init__(self,firstname,lastname):\n",
    "        super().__init__(firstname,lastname)\n",
    "    def show_details(self):\n",
    "        super().print_name()\n",
    "        "
   ]
  },
  {
   "cell_type": "code",
   "execution_count": 22,
   "id": "6f872909-bd28-4efc-80c3-7028e8a5464a",
   "metadata": {},
   "outputs": [],
   "source": [
    "std=student(\"kasula\",\"santhosh\")"
   ]
  },
  {
   "cell_type": "code",
   "execution_count": 23,
   "id": "7801958d-9879-49d4-99f5-c02de5ef2589",
   "metadata": {},
   "outputs": [
    {
     "name": "stdout",
     "output_type": "stream",
     "text": [
      "kasula  santhosh\n"
     ]
    }
   ],
   "source": [
    "std.show_details()"
   ]
  },
  {
   "cell_type": "code",
   "execution_count": 28,
   "id": "1bb7489d-e8cb-434d-9c1f-b489c4a2df3d",
   "metadata": {},
   "outputs": [],
   "source": [
    "#13. Create a class called `Book` with a constructor that initializes the `title`, `author`, and `published_year` attributes. Provide a method to display book details.\n",
    "class Book:\n",
    "    def __init__(self,title,author,published_year):\n",
    "        self.title=title\n",
    "        self.author=author\n",
    "        self.year=published_year\n",
    "    def display_bookdetails(self):\n",
    "        print(\"the title of book is:\",self.title)\n",
    "        print(\"the author is:\",self.author)\n",
    "        print(\"the published year is:\",self.year)"
   ]
  },
  {
   "cell_type": "code",
   "execution_count": 29,
   "id": "b130bc93-29db-490e-aeb8-4027ea0903f4",
   "metadata": {},
   "outputs": [],
   "source": [
    "b1=Book(\"datascience\",\"kumar\",1985)"
   ]
  },
  {
   "cell_type": "code",
   "execution_count": 30,
   "id": "df6d01ba-a5f4-4aa1-a71c-8a409ce224f9",
   "metadata": {},
   "outputs": [
    {
     "name": "stdout",
     "output_type": "stream",
     "text": [
      "the title of book is: datascience\n",
      "the author is: kumar\n",
      "the published year is: 1985\n"
     ]
    }
   ],
   "source": [
    "b1.display_bookdetails()"
   ]
  },
  {
   "cell_type": "code",
   "execution_count": 25,
   "id": "f19d27da-fc1e-4f98-b759-9f86bf13d04a",
   "metadata": {},
   "outputs": [],
   "source": [
    "#14. Discuss the differences between constructors and regular methods in Python classes.\n",
    "The constructor is a special method in a class that is used for initializing the attributes of the object when an object is created. The constructor method is named __init__.\n",
    "It is automatically called when an object is instantiated.\n",
    "Regular methods in a class perform specific actions or provide functionality related to the class. Their names are not fixed, \n",
    "but they should be meaningful and follow Pythons naming conventions (e.g., calculate_area, display_info). They are called explicitly on an object."
   ]
  },
  {
   "cell_type": "code",
   "execution_count": null,
   "id": "d2f5050a-903b-4f1f-929d-af582b2f50ea",
   "metadata": {},
   "outputs": [],
   "source": [
    "#15. Explain the role of the `self` parameter in instance variable initialization within a constructor.\n",
    "Python uses the self-parameter to refer to instance attributes and methods of the class. \n",
    "The self-variable in Python can also be used to access a variable field within the class definition. \n",
    "Self is the first argument to be passed in Constructor and Instance Method. \n",
    "Self must be provided as a First parameter to the Instance method and constructor\n"
   ]
  },
  {
   "cell_type": "code",
   "execution_count": 34,
   "id": "37bdc8c8-e8e2-436b-9890-072ed7bedef9",
   "metadata": {},
   "outputs": [],
   "source": [
    "#17. Create a Python class called `Student` with a constructor that takes a list of subjects as a parameter and initializes the `subjects` attribute.\n",
    "class Student:\n",
    "    def __init__(self,s1,s2,s3):\n",
    "        self.s1=s1\n",
    "        self.s2=s2\n",
    "        self.s3=s3\n",
    "    def marks(self):\n",
    "        print(\"subject1 marks:\",self.s1)\n",
    "        print(\"subject2 marks:\",self.s2)\n",
    "        print(\"subject3 marks:\",self.s3) "
   ]
  },
  {
   "cell_type": "code",
   "execution_count": 35,
   "id": "0a1c99f5-5005-4175-b16f-58cc85a38be5",
   "metadata": {},
   "outputs": [],
   "source": [
    "st1=Student(20,30,40)"
   ]
  },
  {
   "cell_type": "code",
   "execution_count": 36,
   "id": "dfe8c448-e1bc-4915-b8dc-f2d1e997c0ef",
   "metadata": {},
   "outputs": [
    {
     "name": "stdout",
     "output_type": "stream",
     "text": [
      "subject1 marks: 20\n",
      "subject2 marks: 30\n",
      "subject3 marks: 40\n"
     ]
    }
   ],
   "source": [
    "st1.marks()"
   ]
  },
  {
   "cell_type": "code",
   "execution_count": null,
   "id": "e0efc2a8-e040-4e75-ae41-3f160632f336",
   "metadata": {},
   "outputs": [],
   "source": [
    "#18. What is the purpose of the `__del__` method in Python classes, and how does it relate to constructors?\n",
    "Python calls the __del__ method right before the garbage collector destroys the object.\n",
    "The garbage collector destroys an object when there is no reference to the object.\n",
    "Exception occurs inside the __del__ method is not raised but silent.\n",
    "Avoid using __del__ for clean up resources; use the context manager instead."
   ]
  },
  {
   "cell_type": "code",
   "execution_count": null,
   "id": "7c01263e-6e65-4c99-abf7-60f4c1a71b02",
   "metadata": {},
   "outputs": [],
   "source": [
    "#19. Explain the use of constructor chaining in Python. Provide a practical example.\n",
    "In Python, constructor chaining is convenient when we are dealing with inheritance.\n",
    "When an instance of a child class is initialized, the constructors of all the parent classes are first invoked and then, in the end, the constructor of the child class is invoked. \n",
    "Using the super()method we can invoke the parent class constructor from a child class.\n",
    "class person:\n",
    "    def __init__(self,firstname,lastname):\n",
    "        self.firstname=firstname\n",
    "        self.lastname=lastname\n",
    "    def print_name(self):\n",
    "        print(self.firstname,'',self.lastname)\n",
    "class student(person):\n",
    "    def __init__(self,firstname,lastname):\n",
    "        super().__init__(firstname,lastname)\n",
    "    def show_details(self):\n",
    "        super().print_name()"
   ]
  },
  {
   "cell_type": "code",
   "execution_count": 31,
   "id": "bff3c0ae-f5e2-498a-abe1-8ffa9f36224f",
   "metadata": {},
   "outputs": [],
   "source": [
    "#20. Create a Python class called `Car` with a default constructor that initializes the `make` and `model` attributes. Provide a method to display car information.\n",
    "class Car:\n",
    "    def __init__(self,make,model):\n",
    "        self.make=make\n",
    "        self.model=model\n",
    "    def car_details(self):\n",
    "        print(self.make)\n",
    "        print(self.model)"
   ]
  },
  {
   "cell_type": "code",
   "execution_count": 32,
   "id": "4567617b-491c-41f8-a68d-d263063a5237",
   "metadata": {},
   "outputs": [],
   "source": [
    "car1=Car(\"India\",1992)"
   ]
  },
  {
   "cell_type": "code",
   "execution_count": 33,
   "id": "43b3a771-7a2d-42a4-ba92-ca8a0c2d345a",
   "metadata": {},
   "outputs": [
    {
     "name": "stdout",
     "output_type": "stream",
     "text": [
      "India\n",
      "1992\n"
     ]
    }
   ],
   "source": [
    "car1.car_details()"
   ]
  },
  {
   "cell_type": "code",
   "execution_count": null,
   "id": "c1be234f-6d29-42ed-bd77-b9c2b2f5b714",
   "metadata": {},
   "outputs": [],
   "source": [
    "Inheritance:\n",
    "#1. What is inheritance in Python? Explain its significance in object-oriented programming.\n",
    "Inheritance is the capability of one class to derive or inherit the properties from another class. \n",
    "The process of inheriting the properties of the parent class into a child class is called inheritance. \n",
    "The existing class is called a base class or parent class and the new class is called a subclass or child class. \n",
    "Inheritance is one of the core features of object-oriented programming. It’s a programming procedure that allows you to reuse code by \n",
    "referencing the behaviors and data of an object. "
   ]
  },
  {
   "cell_type": "code",
   "execution_count": 1,
   "id": "a398ffce-4735-406e-8667-83b8d6d93a23",
   "metadata": {},
   "outputs": [],
   "source": [
    "#2. Differentiate between single inheritance and multiple inheritance in Python. Provide examples for each.\n",
    "'''Single inheritance is one in which the derived class inherits the single base class.\n",
    "Whereas multiple inheritance is one in which the derived class acquires two or more base classes.'''\n",
    "#single inheritance\n",
    "class pwskills:\n",
    "    def __init__(self,mentor):\n",
    "        self.mentor=mentor\n",
    "    def mentor_name(self):\n",
    "        print(self.mentor)\n",
    "class datascience(pwskills):\n",
    "    def __init__(self,mentor,mentor_mail_id):\n",
    "        self.mentor=mentor\n",
    "        self.mentor_mail_id=mentor_mail_id\n",
    "    def show_info(self):\n",
    "        print(self.mentor,self.mentor_mail_id)"
   ]
  },
  {
   "cell_type": "code",
   "execution_count": 2,
   "id": "0b0224c9-a57b-49b7-9576-fc42e7a08dff",
   "metadata": {},
   "outputs": [],
   "source": [
    "python_basic=datascience(\"santhosh\",\"123@gmail.com\")"
   ]
  },
  {
   "cell_type": "code",
   "execution_count": 4,
   "id": "f4df4f57-5cd5-40c2-b34d-55660d2e8722",
   "metadata": {},
   "outputs": [
    {
     "name": "stdout",
     "output_type": "stream",
     "text": [
      "santhosh 123@gmail.com\n",
      "santhosh\n"
     ]
    }
   ],
   "source": [
    "python_basic.show_info()\n",
    "python_basic.mentor_name()"
   ]
  },
  {
   "cell_type": "code",
   "execution_count": 24,
   "id": "7b533e55-373c-4582-bc39-9c0b16ae8e96",
   "metadata": {},
   "outputs": [],
   "source": [
    "#mulitple inheritance\n",
    "class person:\n",
    "    def __init__(self,name):\n",
    "        self.name=name\n",
    "    def person_details(self):\n",
    "        print(self.name)\n",
    "class company:\n",
    "    def __init__(self,company_name):\n",
    "        self.company_name=company_name\n",
    "    def company_deatils(self):\n",
    "        print(self.company_name)\n",
    "class Employee(person,company):\n",
    "    def __init__(self,name,company_name,salary):\n",
    "        self.name=name\n",
    "        self.company_name=company_name\n",
    "        self.salary=salary\n",
    "    def employee_details(self):\n",
    "        print(self.name,self.company_name,self.salary)"
   ]
  },
  {
   "cell_type": "code",
   "execution_count": 25,
   "id": "9f0e1e4e-6cad-4fd1-83cf-c7f278c0137f",
   "metadata": {},
   "outputs": [],
   "source": [
    "emp=Employee(\"santhosh\",\"amazon\",25000)"
   ]
  },
  {
   "cell_type": "code",
   "execution_count": 26,
   "id": "2bba71f0-9aaf-4855-af56-56dd89992d64",
   "metadata": {},
   "outputs": [
    {
     "name": "stdout",
     "output_type": "stream",
     "text": [
      "santhosh amazon 25000\n"
     ]
    }
   ],
   "source": [
    "emp.employee_details()"
   ]
  },
  {
   "cell_type": "code",
   "execution_count": 27,
   "id": "57b5ff9f-9248-4900-ab7a-059d5078a945",
   "metadata": {},
   "outputs": [
    {
     "name": "stdout",
     "output_type": "stream",
     "text": [
      "santhosh\n"
     ]
    }
   ],
   "source": [
    "emp.person_details()"
   ]
  },
  {
   "cell_type": "code",
   "execution_count": 28,
   "id": "fc4842cf-4b6b-4bfe-a811-cb9fe379f790",
   "metadata": {},
   "outputs": [
    {
     "name": "stdout",
     "output_type": "stream",
     "text": [
      "amazon\n"
     ]
    }
   ],
   "source": [
    "emp.company_deatils()"
   ]
  },
  {
   "cell_type": "code",
   "execution_count": 29,
   "id": "739f943d-c8df-4b91-bba0-db6b796e2010",
   "metadata": {},
   "outputs": [],
   "source": [
    "'''3. Create a Python class called `Vehicle` with attributes `color` and `speed`. Then, create a child class called\n",
    "`Car` that inherits from `Vehicle` and adds a `brand` attribute. Provide an example of creating a `Car` object.'''\n",
    "class Vehicle:\n",
    "    def __init__(self,color,speed):\n",
    "        self.color=color\n",
    "        self.speed=speed\n",
    "    def Vehicle_details(self):\n",
    "        print(self.color,self.speed)\n",
    "class Car(Vehicle):\n",
    "    def __init__(self,color,speed,brand):\n",
    "        self.color=color\n",
    "        self.speed=speed\n",
    "        self.brand=brand\n",
    "    def Car_details(self):\n",
    "        print(self.color,self.speed,self.brand)"
   ]
  },
  {
   "cell_type": "code",
   "execution_count": 30,
   "id": "c71c4875-8cce-44db-81a0-dc7599b7aa0f",
   "metadata": {},
   "outputs": [],
   "source": [
    "car1=Car(\"white\",150,\"BMW\")"
   ]
  },
  {
   "cell_type": "code",
   "execution_count": 31,
   "id": "8737a95f-f890-45dc-b701-8a2f501d897e",
   "metadata": {},
   "outputs": [
    {
     "name": "stdout",
     "output_type": "stream",
     "text": [
      "white 150 BMW\n"
     ]
    }
   ],
   "source": [
    "car1.Car_details()"
   ]
  },
  {
   "cell_type": "code",
   "execution_count": 32,
   "id": "568fe4bf-48b8-4bf1-8b67-1a47bb6d5a01",
   "metadata": {},
   "outputs": [
    {
     "name": "stdout",
     "output_type": "stream",
     "text": [
      "white 150\n"
     ]
    }
   ],
   "source": [
    "car1.Vehicle_details()"
   ]
  },
  {
   "cell_type": "code",
   "execution_count": null,
   "id": "c60145a8-b027-44bd-883e-5857c7107abf",
   "metadata": {},
   "outputs": [],
   "source": [
    "'''4. Explain the concept of method overriding in inheritance. Provide a practical example.\n",
    "Method Overriding in Python is an OOPs concept closely related to inheritance. When a child class method overrides \n",
    "the parent class method of the same name, parameters and return type, it is known as method overriding.'''\n",
    "class parent1:\n",
    "    def __init__(self,name):\n",
    "        self.name=name\n",
    "    def show(self):\n",
    "        print(self.name)\n",
    "class parent2():\n",
    "    def __init__(self,name1):\n",
    "        self.name1=name1\n",
    "    def display(self):\n",
    "        print(self.name1)\n",
    "class child(parent1,parent2):\n",
    "    def __init__(self,name,name1,name2):\n",
    "        self.name=name\n",
    "        self.name1=name1\n",
    "        self.name2=name2\n",
    "    def show(self):\n",
    "        print(self.name)\n",
    "        print(self.name1)\n",
    "        print(self.name2)                                                                                                                 "
   ]
  },
  {
   "cell_type": "code",
   "execution_count": 15,
   "id": "05060d83-4fb4-4840-9f80-5450698998d3",
   "metadata": {},
   "outputs": [],
   "source": [
    "#5. How can you access the methods and attributes of a parent class from a child class in Python? Give an example.\n",
    "'''Use the super() method to call the constructor of the parent in the child.\n",
    "The __init__() method will set the instance variables.\n",
    "Access any of the parent class's attributes or methods on the self object.'''\n",
    "class Faculty:\n",
    "    def __init__(self,name,course):\n",
    "        self.name=name\n",
    "        self.course=course\n",
    "    def Facultyname(self):\n",
    "        print(self.name,self.course)\n",
    "class Student(Faculty):\n",
    "    def __init__(self,name,course,cost):\n",
    "        super().__init__(name,course)\n",
    "        self.course=course\n",
    "        self.cost=cost\n",
    "    def show(self):\n",
    "        super().Facultyname()\n",
    "        print(self.cost)"
   ]
  },
  {
   "cell_type": "code",
   "execution_count": 16,
   "id": "00dd34df-3b09-4f33-94de-913ce88d1974",
   "metadata": {},
   "outputs": [],
   "source": [
    "s1=Student(\"santhosh\",\"python\",15000)"
   ]
  },
  {
   "cell_type": "code",
   "execution_count": 17,
   "id": "f4607bc1-bfc0-4f85-a01b-c8ac7f780a8a",
   "metadata": {},
   "outputs": [
    {
     "name": "stdout",
     "output_type": "stream",
     "text": [
      "santhosh python\n",
      "15000\n"
     ]
    }
   ],
   "source": [
    "s1.show()"
   ]
  },
  {
   "cell_type": "code",
   "execution_count": 1,
   "id": "fb11c02d-6472-49aa-b0fa-4b66597d4de6",
   "metadata": {},
   "outputs": [],
   "source": [
    "#6. Discuss the use of the `super()` function in Python inheritance. When and why is it used? Provide an example.\n",
    "'''Use the super() method to call the constructor of the parent in the child.\n",
    "The __init__() method will set the instance variables.\n",
    "Access any of the parent class's attributes or methods on the self object.'''\n",
    "class Faculty:\n",
    "    def __init__(self,name,course):\n",
    "        self.name=name\n",
    "        self.course=course\n",
    "    def Facultyname(self):\n",
    "        print(self.name,self.course)\n",
    "class Student(Faculty):\n",
    "    def __init__(self,name,course,cost):\n",
    "        super().__init__(name,course)\n",
    "        self.course=course\n",
    "        self.cost=cost\n",
    "    def show(self):\n",
    "        super().Facultyname()\n",
    "        print(self.cost)"
   ]
  },
  {
   "cell_type": "code",
   "execution_count": 13,
   "id": "53ad768c-4b47-4da1-bd59-2a06c8a5a688",
   "metadata": {},
   "outputs": [],
   "source": [
    "#7. Create a Python class called `Animal` with a method `speak()`. Then, create child classes `Dog` and `Cat` that inherit from `Animal`\n",
    "# and override the `speak()` method. Provide an example of using these classes.\n",
    "class Animal:\n",
    "    name=\"\"\n",
    "    def speak(self):\n",
    "        print(\" I can Speak\")\n",
    "class Dog(Animal):\n",
    "    def Dispaly(self):\n",
    "        print(self.name)\n",
    "    def speak(self):\n",
    "        print(\"I can also speak\")\n",
    "class Cat(Animal):\n",
    "    def speak(self):\n",
    "        print(self.name)\n",
    "        print(\"i am person with speak\")"
   ]
  },
  {
   "cell_type": "code",
   "execution_count": 14,
   "id": "dee28bc9-46a8-4598-82a3-847557ed4f0c",
   "metadata": {},
   "outputs": [],
   "source": [
    "d1=Dog()"
   ]
  },
  {
   "cell_type": "code",
   "execution_count": 15,
   "id": "cfb305aa-3487-4914-8e9d-20c87fa96a37",
   "metadata": {},
   "outputs": [
    {
     "name": "stdout",
     "output_type": "stream",
     "text": [
      "I can also speak\n"
     ]
    }
   ],
   "source": [
    "d1.speak()"
   ]
  },
  {
   "cell_type": "code",
   "execution_count": 16,
   "id": "784f6d1b-2774-443a-a8c9-ccc3ef0698e6",
   "metadata": {},
   "outputs": [],
   "source": [
    "d1.name=\"jon\""
   ]
  },
  {
   "cell_type": "code",
   "execution_count": 17,
   "id": "4bfde259-3ecf-4914-8504-f4dbb7d85f99",
   "metadata": {},
   "outputs": [
    {
     "name": "stdout",
     "output_type": "stream",
     "text": [
      "jon\n"
     ]
    }
   ],
   "source": [
    "d1.Dispaly()"
   ]
  },
  {
   "cell_type": "code",
   "execution_count": 18,
   "id": "a7213c36-a3c3-400b-9b9b-a670a4a74616",
   "metadata": {},
   "outputs": [],
   "source": [
    "c1=Cat()"
   ]
  },
  {
   "cell_type": "code",
   "execution_count": 19,
   "id": "8102d611-f373-4567-bcfe-a12598d51829",
   "metadata": {},
   "outputs": [],
   "source": [
    "c1.name=\"don\""
   ]
  },
  {
   "cell_type": "code",
   "execution_count": 20,
   "id": "0a5edd0b-5401-4b10-9fcf-02cd3aab6f31",
   "metadata": {},
   "outputs": [
    {
     "name": "stdout",
     "output_type": "stream",
     "text": [
      "don\n",
      "i am person with speak\n"
     ]
    }
   ],
   "source": [
    "c1.speak()"
   ]
  },
  {
   "cell_type": "code",
   "execution_count": null,
   "id": "9122b21e-293c-467e-80eb-4acce1068c1e",
   "metadata": {},
   "outputs": [],
   "source": [
    "8. Explain the role of the `isinstance()` function in Python and how it relates to inheritance.\n",
    "The isinstance() function returns True if the specified object is of the specified type, otherwise False.\n",
    "The instance() returns True if the classinfo argument of the instance() is the object’s class’s parent class."
   ]
  },
  {
   "cell_type": "code",
   "execution_count": 5,
   "id": "9e82d73e-d40a-4cce-98be-599b0caace7e",
   "metadata": {},
   "outputs": [
    {
     "name": "stdout",
     "output_type": "stream",
     "text": [
      "True\n"
     ]
    }
   ],
   "source": [
    "#9. What is the purpose of the `issubclass()` function in Python? Provide an example.\n",
    "'''Python issubclass() is built-in function used to check if a class is a subclass of another class or not. \n",
    "This function returns True if the given class is the subclass of given class else it returns False.'''\n",
    "class Vehicle:\n",
    "    def __init__(self,vehicletype):\n",
    "        self.vehicle_type=vehicletype\n",
    "    def show(self):\n",
    "        print(self.vehicle_type)\n",
    "class Car(Vehicle):\n",
    "    def __init__(self):\n",
    "        Vehicle.__init__('Car')\n",
    "           \n",
    "print(issubclass(Car,Vehicle))"
   ]
  },
  {
   "cell_type": "code",
   "execution_count": null,
   "id": "e66cd2cc-c393-417c-b735-69b1912c2da8",
   "metadata": {},
   "outputs": [],
   "source": [
    "#10. Discuss the concept of constructor inheritance in Python. How are constructors inherited in child classes?\n",
    "'''Constructors are not members, so they are not inherited by subclasses, but the constructor of the superclass can be invoked from the subclass.\n",
    "if we create an object of child class then the parent class constructor will be called before child class constructor. '''"
   ]
  },
  {
   "cell_type": "code",
   "execution_count": 11,
   "id": "d094bb02-a3aa-465f-9c7c-727980c9b7fa",
   "metadata": {},
   "outputs": [
    {
     "name": "stdout",
     "output_type": "stream",
     "text": [
      "the circle area is: 153.93804002589985\n",
      "The rectangle area is: 200\n"
     ]
    }
   ],
   "source": [
    "'''11. Create a Python class called `Shape` with a method `area()` that calculates the area of a shape.\n",
    "Then, create child classes `Circle` and `Rectangle` that inherit from `Shape` and implement the `area()` method accordingly.\n",
    "Provide an example.'''\n",
    "import math\n",
    "class Shape:\n",
    "    def area(self):\n",
    "        pass\n",
    "class Circle(Shape):\n",
    "    def __init__(self,radius):\n",
    "        self.radius=radius\n",
    "    def area(self):\n",
    "        return math.pi*self.radius**2\n",
    "class Rectangle(Shape):\n",
    "    def __init__(self,length,width):\n",
    "        self.length=length\n",
    "        self.width=width\n",
    "    def area(self):\n",
    "        return self.length*self.width\n",
    "c1=Circle(7)\n",
    "Circle_area=c1.area()\n",
    "print(\"the circle area is:\",Circle_area)\n",
    "r1=Rectangle(10,20)\n",
    "Rectangle_area=r1.area()\n",
    "print(\"The rectangle area is:\",Rectangle_area)"
   ]
  },
  {
   "cell_type": "code",
   "execution_count": 17,
   "id": "38a5cb54-b81a-462e-b167-d3fdf58a14c4",
   "metadata": {},
   "outputs": [
    {
     "name": "stdout",
     "output_type": "stream",
     "text": [
      "oval\n"
     ]
    },
    {
     "data": {
      "text/plain": [
       "'orange'"
      ]
     },
     "execution_count": 17,
     "metadata": {},
     "output_type": "execute_result"
    }
   ],
   "source": [
    "'''12. Explain the use of abstract base classes (ABCs) in Python and how they relate to inheritance. Provide an\n",
    "example using the `abc` module.\n",
    "A class that contains one or more abstract methods is called an abstract class. \n",
    "An abstract method is a method that has a declaration but does not have an implementation.\n",
    "All abstract methods and properties need to be implemented in a child class in order to be able to create objects from it.\n",
    "We can create an abstract class by inheriting from the ABC class which is part of the abc module'''\n",
    "from abc import ABC, abstractmethod\n",
    "class Fruit(ABC):\n",
    "    @abstractmethod\n",
    "    def getShape(self):\n",
    "        print(self.shape)\n",
    "    @abstractmethod\n",
    "    def getColor(self):\n",
    "        return self.color\n",
    "class Mango(Fruit):\n",
    "    def __init__(self,shape,color):\n",
    "        self.shape=shape\n",
    "        self.color=color\n",
    "    def getShape(self):\n",
    "        print(self.shape)\n",
    "    def getColor(self):\n",
    "        return self.color\n",
    "m=Mango(\"oval\",\"orange\")\n",
    "m.getShape()\n",
    "m.getColor()"
   ]
  },
  {
   "cell_type": "code",
   "execution_count": null,
   "id": "ccc79ea1-5919-42e4-b327-2ce84f0111c1",
   "metadata": {},
   "outputs": [],
   "source": [
    "13. How can you prevent a child class from modifying certain attributes or methods inherited from a parent\n",
    "class in Python?\n",
    "When you add the __init__() function, the child class will no longer inherit the parent's __init__() function. \n",
    "The child's __init__() function overrides the inheritance of the parent's __init__() function.\n"
   ]
  },
  {
   "cell_type": "code",
   "execution_count": 7,
   "id": "27674101-c0d3-4c31-adb9-4a9767c6988c",
   "metadata": {},
   "outputs": [],
   "source": [
    "'''14. Create a Python class called `Employee` with attributes `name` and `salary`. Then, create a child class\n",
    "`Manager` that inherits from `Employee` and adds an attribute `department`. Provide an example.'''\n",
    "class Employee:\n",
    "    def __init__(self,name,salary):\n",
    "        self.name=name\n",
    "        self.salary=salary\n",
    "    def display(self):\n",
    "        print(\"Name of the Employee\",self.name)\n",
    "        print(\"Salary of the Employee\",self.salary)\n",
    "class Manager(Employee):\n",
    "    def __init__(self,name,salary,department):\n",
    "        Employee.__init__(self,name,salary)\n",
    "        self.department=department\n",
    "    def dispaly_Employee(self):\n",
    "        print(\"Name of the Employee:\",self.name)\n",
    "        print(\"Salary of the Employee:\",self.salary)\n",
    "        print(\"Name of the Employee departemnt:\",self.department)\n",
    "               "
   ]
  },
  {
   "cell_type": "code",
   "execution_count": 8,
   "id": "b70ad878-e60b-4689-bc2e-e75560e9238e",
   "metadata": {},
   "outputs": [],
   "source": [
    "manager1=Manager(\"santhosh\",90000,\"main\")"
   ]
  },
  {
   "cell_type": "code",
   "execution_count": 9,
   "id": "3e3cc23f-a5c4-4b5e-ae9b-cec405a31a0c",
   "metadata": {},
   "outputs": [
    {
     "name": "stdout",
     "output_type": "stream",
     "text": [
      "Name of the Employee: santhosh\n",
      "Salary of the Employee: 90000\n",
      "Name of the Employee departemnt: main\n"
     ]
    }
   ],
   "source": [
    "manager1.dispaly_Employee()"
   ]
  },
  {
   "cell_type": "code",
   "execution_count": null,
   "id": "041e8377-edc8-4cbf-9e5d-98c9d76e47b5",
   "metadata": {},
   "outputs": [],
   "source": [
    "15. Discuss the concept of method overloading in Python inheritance. How does it differ from method\n",
    "overriding?\n",
    "Method Overloading is not directly related to inheritance. It occurs within the same class and provides different implementations for \n",
    "methods based on the parameters provided during the function call. On the other hand, Method Overriding is closely tied to inheritance.\n"
   ]
  },
  {
   "cell_type": "code",
   "execution_count": null,
   "id": "c47a323a-8249-4eb7-87c3-3ab0f657cf27",
   "metadata": {},
   "outputs": [],
   "source": [
    "16. Explain the purpose of the `__init__()` method in Python inheritance and how it is utilized in child classes.\n",
    "The __init__ is a special method known as the constructor. It is automatically called when a new instance (object) of a class is created. \n",
    "The __init__ method allows you to initialize the attributes (variables) of an object.\n",
    "Inheritance allows the child class to inherit the __init__() method of the parent class along with the other data members and member functions \n",
    "of that class.\n"
   ]
  },
  {
   "cell_type": "code",
   "execution_count": 26,
   "id": "305207e4-9fb8-4eb9-a829-9e67fc3f5d7d",
   "metadata": {},
   "outputs": [
    {
     "name": "stdout",
     "output_type": "stream",
     "text": [
      "This is bird class\n"
     ]
    }
   ],
   "source": [
    "'''17. Create a Python class called `Bird` with a method `fly()`. Then, create child classes `Eagle` and `Sparrow` that inherit\n",
    "from `Bird` and implement the `fly()` method differently. Provide an example of using these classes.'''\n",
    "class Bird:\n",
    "    def eat(self):\n",
    "        print(\"This is bird class\")\n",
    "        \n",
    "class Eagle(Bird):\n",
    "    def eat(self):\n",
    "        super().eat()\n",
    "    def fly(self):\n",
    "        print(\"This is Eagle class\")\n",
    "e=Eagle()\n",
    "e.eat()"
   ]
  },
  {
   "cell_type": "code",
   "execution_count": 10,
   "id": "6f878acd-d06d-4347-b0e8-1752ad8662e6",
   "metadata": {},
   "outputs": [
    {
     "name": "stdout",
     "output_type": "stream",
     "text": [
      "This is class B\n"
     ]
    }
   ],
   "source": [
    "#18. What is the \"diamond problem\" in multiple inheritance, and how does Python address it?\n",
    "'''The diamond problem occurs when two classes have a common parent class, and another class has both those classes as base classes.'''\n",
    "class A:\n",
    "    def display(self):\n",
    "        print(\"This is class A\")\n",
    "        \n",
    "class B(A):\n",
    "    def display(self):\n",
    "        print(\"This is class B\")\n",
    "        \n",
    "class C(A):\n",
    "    def display(self):\n",
    "        print(\"This is class C\")\n",
    "        \n",
    "class D(B, C):\n",
    "    pass\n",
    "\n",
    "obj = D()\n",
    "obj.display()"
   ]
  },
  {
   "cell_type": "code",
   "execution_count": 7,
   "id": "9a0d2da2-8dee-4cb7-9995-1ae973e64828",
   "metadata": {},
   "outputs": [
    {
     "name": "stdout",
     "output_type": "stream",
     "text": [
      "Child method\n",
      "Parent method\n",
      "Car use Engine class functionality\n",
      "20\n",
      "This is Engine class\n"
     ]
    }
   ],
   "source": [
    "#19. Discuss the concept of \"is-a\" and \"has-a\" relationships in inheritance, and provide examples of each.\n",
    "'''The concept of IS-A is a totally based on Inheritance, which can be of two types Class Inheritance or Interface Inheritance.'''\n",
    "class A:\n",
    "    def __init__(self):\n",
    "        self.b=10\n",
    "    def m1(self):\n",
    "        print('Parent method')\n",
    "\n",
    "class B(A):\n",
    "    def m2(self):\n",
    "        print('Child method')\n",
    "d=B()\n",
    "d.m2()\n",
    "d.m1()        \n",
    "        \n",
    "'''Composition(HAS-A) simply mean the use of instance variables that are references to other objects.'''\n",
    "class Engine:\n",
    "    def __init__(self):\n",
    "        self.b = 20\n",
    "    def myEngine(self):\n",
    "        print('This is Engine class')\n",
    "\n",
    "class Car:\n",
    "    def __init__(self):\n",
    "         self.engine = Engine()\n",
    "    def mycar(self):\n",
    "        print('Car use Engine class functionality')\n",
    "        print(self.engine.b)\n",
    "        self.engine.myEngine()\n",
    "\n",
    "a = Car()\n",
    "a.mycar()\n"
   ]
  },
  {
   "cell_type": "code",
   "execution_count": 23,
   "id": "b02ec999-3f4a-443f-b374-4479a49d2bbd",
   "metadata": {},
   "outputs": [
    {
     "name": "stdout",
     "output_type": "stream",
     "text": [
      "Name: ramesh Age: 25 Department: CSE GPA: 5.6\n",
      "Name: santhosh Age: 39 Department: AI lab DS\n"
     ]
    }
   ],
   "source": [
    "'''20. Create a Python class hierarchy for a university system. Start with a base class `Person` and create child\n",
    "classes `Student` and `Professor`, each with their own attributes and methods. Provide an example of using\n",
    "these classes in a university context.'''\n",
    "class Person:\n",
    "    def __init__(self,name,age,department):\n",
    "        self.name=name\n",
    "        self.age=age\n",
    "        self.department=department\n",
    "    def get_name(self):\n",
    "        return self.name \n",
    "class Student(Person):\n",
    "    def __init__(self,name,age,department,std_id,GPA):\n",
    "        super().__init__(name,age,department)\n",
    "        self.std_id=std_id\n",
    "        self.GPA=GPA\n",
    "    def print_info(self):\n",
    "        print(\"Name:\",self.name,\"Age:\",self.age,\"Department:\",self.department,\"GPA:\",self.GPA)\n",
    "class Professor(Person):\n",
    "    def __init__(self,name,age,department,position,lab):\n",
    "        super().__init__(name,age,department)\n",
    "        self.position=position\n",
    "        self.lab=lab\n",
    "    def print_info(self):\n",
    "         print(\"Name:\",self.name,\"Age:\",self.age,\"Department:\",self.department,\"lab\",self.lab)\n",
    "std1=Student(\"ramesh\",25,\"CSE\",101,5.6)\n",
    "std1.print_info()\n",
    "pro1=Professor(\"santhosh\",39,\"AI\",\"Profes.\",\"DS\")\n",
    "pro1.print_info()"
   ]
  },
  {
   "cell_type": "code",
   "execution_count": null,
   "id": "17ffbb22-57b5-41fd-bc65-eafec65b71e7",
   "metadata": {},
   "outputs": [],
   "source": [
    "Encapsulation:"
   ]
  },
  {
   "cell_type": "code",
   "execution_count": null,
   "id": "2856721a-78c2-4b3b-9296-3ce02299d344",
   "metadata": {},
   "outputs": [],
   "source": [
    "#1. Explain the concept of encapsulation in Python. What is its role in object-oriented programming?\n",
    "Encapsulation is one of the most fundamental concepts in object-oriented programming (OOP). This is the concept of wrapping data and methods that work with data in one unit. This prevents data modification accidentally by limiting access to variables and methods. \n",
    "An object's method can change a variable's value to prevent accidental changes. "
   ]
  },
  {
   "cell_type": "code",
   "execution_count": null,
   "id": "a2c8dd4b-4d81-4dca-a319-d25beba46814",
   "metadata": {},
   "outputs": [],
   "source": [
    "# 2. Describe the key principles of encapsulation, including access control and data hiding.\n",
    "Using encapsulation, we can hide an object’s internal representation from the outside. \n",
    "This is called information hiding. Also, encapsulation allows us to restrict accessing variables \n",
    "and methods directly and prevent accidental modification by creating private data members and methods within a class."
   ]
  },
  {
   "cell_type": "code",
   "execution_count": 31,
   "id": "88b60c1a-8ca8-4a45-936a-d36d420c823f",
   "metadata": {},
   "outputs": [
    {
     "name": "stdout",
     "output_type": "stream",
     "text": [
      "80000\n",
      "santhosh\n"
     ]
    }
   ],
   "source": [
    "#3. How can you achieve encapsulation in Python classes? Provide an example.\n",
    "'''Encapsulation in Python describes the concept of bundling data and methods within a single unit.'''\n",
    "class Employee:\n",
    "    def __init__(self,name,salary):\n",
    "        self.salary=salary\n",
    "        self.name=name\n",
    "    def show(self):\n",
    "        print(self.salary)\n",
    "    def infor(self):\n",
    "        print(self.name)\n",
    "emp=Employee(\"santhosh\",80000)\n",
    "emp.show()\n",
    "emp.infor()"
   ]
  },
  {
   "cell_type": "code",
   "execution_count": null,
   "id": "30247e65-bc19-460a-a9b3-5e08a50d6b48",
   "metadata": {},
   "outputs": [],
   "source": [
    "4. Discuss the difference between public, private, and protected access modifiers in Python.\n",
    "'''Public:Public data members are accessible within and outside of a class. All member variables of the class\n",
    "are by default public.\n",
    "Private:Private members are accessible only within the class, and we can’t access them directly from the class objects.\n",
    "Protected:Protected members are accessible within the class and also available to its sub-classes"
   ]
  },
  {
   "cell_type": "code",
   "execution_count": 37,
   "id": "1602e0eb-bda7-4a53-90c4-78fe35019e2b",
   "metadata": {},
   "outputs": [
    {
     "data": {
      "text/plain": [
       "'ashwath'"
      ]
     },
     "execution_count": 37,
     "metadata": {},
     "output_type": "execute_result"
    }
   ],
   "source": [
    "#5. Create a Python class called `Person` with a private attribute `__name`. Provide methods to get and set the name attribute.\n",
    "class Person:\n",
    "    def __init__(self,name):\n",
    "        self.__name=name\n",
    "    def get_name(self):\n",
    "        return self.__name\n",
    "    def set_name(self,name):\n",
    "        self.__name=name\n",
    "per1=Person(\"santhosh\")\n",
    "per1.get_name()\n",
    "per1.set_name(\"ashwath\")\n",
    "per1.get_name()"
   ]
  },
  {
   "cell_type": "code",
   "execution_count": 38,
   "id": "fcdea712-9ba3-4de5-b88a-c3dd37748347",
   "metadata": {},
   "outputs": [
    {
     "data": {
      "text/plain": [
       "'ashwath'"
      ]
     },
     "execution_count": 38,
     "metadata": {},
     "output_type": "execute_result"
    }
   ],
   "source": [
    "# 6. Explain the purpose of getter and setter methods in encapsulation. Provide examples.\n",
    "'''The primary purpose of using getters and setters in object-oriented programs is to ensure data encapsulation.\n",
    "Use the getter method to access data members and the setter methods to modify the data members.'''\n",
    "class Person:\n",
    "    def __init__(self,name):\n",
    "        self.__name=name\n",
    "    def get_name(self):\n",
    "        return self.__name\n",
    "    def set_name(self,name):\n",
    "        self.__name=name\n",
    "per1=Person(\"santhosh\")\n",
    "per1.get_name()\n",
    "per1.set_name(\"ashwath\")\n",
    "per1.get_name()"
   ]
  },
  {
   "cell_type": "code",
   "execution_count": null,
   "id": "bfe30003-f1a5-4f51-9054-09fe1a432f29",
   "metadata": {},
   "outputs": [],
   "source": [
    "#7. What is name mangling in Python, and how does it affect encapsulation?\n",
    "'''The name mangling process helps to access the class variables from outside the class. \n",
    "The class variables can be accessed by adding _classname to it. The name mangling is closest to private not exactly\n",
    "private.'''\n"
   ]
  },
  {
   "cell_type": "code",
   "execution_count": 46,
   "id": "7be045f7-5e9b-4d3e-82c0-4e14d12f9622",
   "metadata": {},
   "outputs": [
    {
     "name": "stdout",
     "output_type": "stream",
     "text": [
      "\n",
      " amount deposited 5000\n",
      "The balance is: 15000\n"
     ]
    },
    {
     "name": "stdin",
     "output_type": "stream",
     "text": [
      "enter the amount to  be withdraw 2000\n"
     ]
    },
    {
     "name": "stdout",
     "output_type": "stream",
     "text": [
      "\n",
      " you withdraw amount 2000.0\n",
      "The balance is: 13000.0\n"
     ]
    }
   ],
   "source": [
    "'''8. Create a Python class called `BankAccount` with private attributes for the account balance (`__balance`) and \n",
    "account number (`__account_number`). Provide methods for depositing and withdrawing money.'''\n",
    "class BankAccount:\n",
    "    def __init__(self,account_number,account_balance):\n",
    "        self.__accountnumber=account_number\n",
    "        self.__accountbalance=account_balance\n",
    "    def deposit(self,amount):\n",
    "        self.__accountbalance+=amount\n",
    "        print(\"\\n amount deposited\",amount)\n",
    "    def withdraw(self):\n",
    "        amount=float(input(\"enter the amount to  be withdraw\"))\n",
    "        if self.__accountbalance>amount:\n",
    "            self.__accountbalance-=amount\n",
    "            print(\"\\n you withdraw amount\",amount)\n",
    "        else:\n",
    "            print(\"insufficiet balance\")\n",
    "    def check_balance(self):\n",
    "        print(\"The balance is:\",self.__accountbalance)\n",
    "p1=BankAccount(123456,10000)\n",
    "p1.deposit(5000)\n",
    "p1.check_balance() \n",
    "p1.withdraw()\n",
    "p1.check_balance()"
   ]
  },
  {
   "cell_type": "code",
   "execution_count": null,
   "id": "30d82bda-3552-4fd1-aadf-7d04e9431f00",
   "metadata": {},
   "outputs": [],
   "source": [
    "9. Discuss the advantages of encapsulation in terms of code maintainability and security.\n",
    "Security: The main advantage of using encapsulation is the security of the data. Encapsulation protects an object \n",
    "from unauthorized access. It allows private and protected access levels to prevent accidental data modification.\n",
    "Simplicity: It simplifies the maintenance of the application by keeping classes separated and preventing them from \n",
    "tightly coupling with each other."
   ]
  },
  {
   "cell_type": "code",
   "execution_count": 50,
   "id": "cbd2ad88-4526-417e-aabc-d5a7ff2650c8",
   "metadata": {},
   "outputs": [
    {
     "name": "stdout",
     "output_type": "stream",
     "text": [
      "employee salary 80000\n"
     ]
    }
   ],
   "source": [
    "'''10. How can you access private attributes in Python? Provide an example demonstrating the use of name\n",
    "mangling.\n",
    "We can directly access private variables from outside of a class through name mangling. The name mangling is \n",
    "created on an identifier by adding two leading underscores and one trailing underscore, like this _classname__dataMember, \n",
    "where classname is the current class, and data member is the private variable name.'''\n",
    "class Employee:\n",
    "    def __init__(self,name,salary):\n",
    "        self.name=name # public variable\n",
    "        self.__salary=salary # private variable\n",
    "emp=Employee(\"santhosh\",80000)\n",
    "print(\"employee salary\",emp._Employee__salary) # access private varibale outside the class using mangling\n"
   ]
  },
  {
   "cell_type": "code",
   "execution_count": null,
   "id": "f9f98cca-5193-4dff-86ee-0f0304ac3cae",
   "metadata": {},
   "outputs": [],
   "source": [
    "12. Explain the concept of property decorators in Python and how they relate to encapsulation.\n",
    "@property decorator is a built-in decorator in Python which is helpful in defining the properties effortlessly without\n",
    "manually calling the inbuilt function property(). Which is used to return the property attributes of a class from the \n",
    "stated getter, setter and deleter as parameters."
   ]
  },
  {
   "cell_type": "code",
   "execution_count": 57,
   "id": "6301f3ab-4f05-4e91-ba41-2f4330c9fb7b",
   "metadata": {},
   "outputs": [
    {
     "data": {
      "text/plain": [
       "'ashwath'"
      ]
     },
     "execution_count": 57,
     "metadata": {},
     "output_type": "execute_result"
    }
   ],
   "source": [
    "'''13. What is data hiding, and why is it important in encapsulation? Provide examples.\n",
    "Data hiding is a specific aspect of encapsulation that refers to the practice of making the internal data of a class private,\n",
    "so it cannot be accessed or modified directly from outside the class. In Python, this is achieved by using the concept of \n",
    "access specifiers'''\n",
    "class person:\n",
    "    def __init__(self,name,age):\n",
    "        self._name=name # data hiding\n",
    "        self.__age=age\n",
    "    def get_name(self):\n",
    "        return self._name\n",
    "    def get_age(self):\n",
    "        return self.__age\n",
    "    def set_name(self,name):\n",
    "        self._name=name\n",
    "a1=person(\"santhosh\",28)\n",
    "a1.get_age()\n",
    "a1.set_name(\"ashwath\")\n",
    "a1.get_name()\n"
   ]
  },
  {
   "cell_type": "code",
   "execution_count": 60,
   "id": "425df4a7-b6d2-4004-b3c1-e7b57ba955cf",
   "metadata": {},
   "outputs": [
    {
     "name": "stdout",
     "output_type": "stream",
     "text": [
      "The bonus is: 9000.0\n"
     ]
    }
   ],
   "source": [
    "'''14. Create a Python class called `Employee` with private attributes for salary (`__salary`) and employee ID (`__employee_id`).\n",
    "Provide a method to calculate yearly bonuses.'''\n",
    "class Employee:\n",
    "    def __init__(self,emp_ID,salary):\n",
    "        self.__emp_ID=emp_ID\n",
    "        self.__salary=salary\n",
    "    def yearly_bonus(self):\n",
    "        if self.__salary>50000:\n",
    "            bonus=self.__salary*0.15\n",
    "        else:\n",
    "            bonus=self.__salary*0.20\n",
    "        print(\"The bonus is:\",bonus)\n",
    "emp1=Employee(101,60000)\n",
    "emp1.yearly_bonus()"
   ]
  },
  {
   "cell_type": "code",
   "execution_count": null,
   "id": "278dd210-4764-4caa-99fe-f3729c9aefa0",
   "metadata": {},
   "outputs": [],
   "source": [
    "15. Discuss the use of accessors and mutators in encapsulation. How do they help maintain control over\n",
    "attribute access?\n",
    "'''Accessor method is used to access object data. The private variables of the object can be accessed using the accessor \n",
    "methods. The accessor methods are declared public methods which return private member data of an object. The Accessor methods\n",
    "are also called getter methods as they are used to get an object data. In Python the accessor method is defined using \n",
    "@property decorator.When the accessor method is called it returns the private member variable value of the object.\n",
    "Mutator methods are used to modify an object's private data. Mutator methods are also called setter methods as they are\n",
    "ed to set/modify the value of an object private variable. Mutator methods are declared private which modifies the private \n",
    "value of the object variables.''"
   ]
  },
  {
   "cell_type": "code",
   "execution_count": null,
   "id": "05930fe1-ed4f-4671-957c-f170ff4d5b0b",
   "metadata": {},
   "outputs": [],
   "source": [
    "16. What are the potential drawbacks or disadvantages of using encapsulation in Python?\n",
    "Code Size: The length of the code increases drastically in the case of encapsulation as we need to provide all the methods \n",
    "with the specifiers.\n",
    "More Instructions: As the size of the code increases, therefore, you need to provide additional instructions for every method.\n",
    "Increased code execution: Encapsulation results in an increase in the duration of the program execution. It is because more \n",
    "instructions are added to the code therefore they require more time to execute."
   ]
  },
  {
   "cell_type": "code",
   "execution_count": null,
   "id": "d6156b44-e23c-4c0e-bb0a-e83a1683c129",
   "metadata": {},
   "outputs": [],
   "source": [
    "#19. Describe the concept of information hiding in encapsulation. Why is it essential in software development?\n",
    "'''Using encapsulation, we can hide an object’s internal representation from the outside. This is called information hiding.\n",
    "Also, encapsulation allows us to restrict accessing variables and methods directly and prevent accidental data modification\n",
    "by creating private data members and methods within a class.\n",
    "Encapsulation is important for software design because it helps to:\n",
    "Hide internal details (like private data, internal implementation etc.) and keep unrelated concerns isolated from each other.\n",
    "Organize code into logical sections, making it easier for programmers to understand the logic of the program and reuse \n",
    "existing code in other programs.\n",
    "Encapsulate and manage all the properties and methods related to each other in one place, making it easier to test them.'''"
   ]
  },
  {
   "cell_type": "code",
   "execution_count": null,
   "id": "b9bd72ce-c484-4e21-b288-5f2c0107278a",
   "metadata": {},
   "outputs": [],
   "source": [
    "20. Create a Python class called `Customer` with private attributes for customer details like name, address,\n",
    "and contact information. Implement encapsulation to ensure data integrity and security."
   ]
  },
  {
   "cell_type": "code",
   "execution_count": null,
   "id": "f36f6d3c-cb93-4aeb-8ebd-2e2ef6f9891d",
   "metadata": {},
   "outputs": [],
   "source": [
    "Polymorphism:"
   ]
  },
  {
   "cell_type": "code",
   "execution_count": null,
   "id": "e499cd29-074d-47ad-ae1e-f9f6c4ad5990",
   "metadata": {},
   "outputs": [],
   "source": [
    "1. What is polymorphism in Python? Explain how it is related to object-oriented programming.\n",
    "The word polymorphism means having many forms. In programming, polymorphism means the same function name \n",
    "(but different signatures) being used for different types. "
   ]
  },
  {
   "cell_type": "code",
   "execution_count": null,
   "id": "b60103e7-b58a-4bc3-8b32-81c8d95a9314",
   "metadata": {},
   "outputs": [],
   "source": [
    "2. Describe the difference between compile-time polymorphism and runtime polymorphism in Python.\n",
    "Compile-time polymorphism allows us to use many methods with the same name but differing signatures and return types. \n",
    "Method overriding can be used to demonstrate run-time polymorphism. \n",
    "Run-time polymorphism is associated with different classes,but it allows us to use the same method with different signature names."
   ]
  },
  {
   "cell_type": "code",
   "execution_count": 64,
   "id": "1ffeb56d-2140-4cdc-96e3-f56d309eb888",
   "metadata": {},
   "outputs": [
    {
     "name": "stdout",
     "output_type": "stream",
     "text": [
      "153.93804002589985\n",
      "36\n",
      "6.0\n"
     ]
    }
   ],
   "source": [
    "'''3. Create a Python class hierarchy for shapes (e.g., circle, square, triangle) and demonstrate polymorphism\n",
    "through a common method, such as `calculate_area()`.'''\n",
    "import math\n",
    "class Circle():\n",
    "    def __init__(self,radius):\n",
    "        self.radius=radius\n",
    "    def area(self):\n",
    "        print(math.pi*self.radius**2)\n",
    "class square():\n",
    "    def __init__(self,side):\n",
    "        self.side=side\n",
    "    def area(self):\n",
    "        print(self.side*self.side)\n",
    "class triangle():\n",
    "    def __init__(self,base,height):\n",
    "        self.base=base\n",
    "        self.height=height\n",
    "    def area(self):\n",
    "        print(0.5*self.base*self.height)\n",
    "c1=Circle(7)\n",
    "s1=square(6)\n",
    "t1=triangle(3,4)\n",
    "for i in (c1,s1,t1):\n",
    "    i.area()\n"
   ]
  },
  {
   "cell_type": "code",
   "execution_count": 1,
   "id": "f3df35f4-d3c7-4005-bf05-99a3bce025c3",
   "metadata": {},
   "outputs": [
    {
     "name": "stdout",
     "output_type": "stream",
     "text": [
      "Inside Parent\n",
      "Inside Child\n"
     ]
    }
   ],
   "source": [
    "#4. Explain the concept of method overriding in polymorphism. Provide an example.\n",
    "'''Method Overriding is the process of redefining certain methods and attributes to fit the child class.'''\n",
    "class Parent(): \n",
    "      \n",
    "    # Constructor \n",
    "    def __init__(self): \n",
    "        self.value = \"Inside Parent\"\n",
    "          \n",
    "    # Parent's show method \n",
    "    def show(self): \n",
    "        print(self.value) \n",
    "          \n",
    "# Defining child class \n",
    "class Child(Parent): \n",
    "      \n",
    "    # Constructor \n",
    "    def __init__(self): \n",
    "        self.value = \"Inside Child\"\n",
    "          \n",
    "    # Child's show method \n",
    "    def show(self): \n",
    "        print(self.value) \n",
    "obj1 = Parent() \n",
    "obj2 = Child() \n",
    "  \n",
    "obj1.show() \n",
    "obj2.show() "
   ]
  },
  {
   "cell_type": "code",
   "execution_count": null,
   "id": "a003d034-6720-4d94-b2ba-0255c2146715",
   "metadata": {},
   "outputs": [],
   "source": [
    "5. How is polymorphism different from method overloading in Python? Provide examples for both.\n",
    "Polymorphism is the process to define more than one body for functions/methods with same name. \n",
    "Overloading is a type of polymorphism, where the signature part must be different."
   ]
  },
  {
   "cell_type": "code",
   "execution_count": 4,
   "id": "2cfc6cdf-c1ff-4ee7-96d8-56fb4f1b53f1",
   "metadata": {},
   "outputs": [
    {
     "name": "stdout",
     "output_type": "stream",
     "text": [
      "Woof!\n",
      "Meow!\n",
      "pitch\n"
     ]
    }
   ],
   "source": [
    "'''6. Create a Python class called `Animal` with a method `speak()`. Then, create child classes like `Dog`, `Cat`, and `Bird`, \n",
    "each with their own `speak()` method. Demonstrate polymorphism by calling the `speak()` method\n",
    "on objects of different subclasses.'''\n",
    "class Animal:\n",
    "    def speak(self):\n",
    "        raise NotImplementedError(\"Subclass must implement this method\")\n",
    "class Dog(Animal):\n",
    "    def speak(self):\n",
    "        return \"Woof!\"\n",
    "class Cat(Animal):\n",
    "    def speak(self):\n",
    "        return \"Meow!\"\n",
    "class Bird(Animal):\n",
    "    def speak(self):\n",
    "        return \"pitch\"\n",
    "    \n",
    "# Create a list of Animal objects\n",
    "animals = [Dog(), Cat(),Bird()]\n",
    " \n",
    "# Call the speak method on each object\n",
    "for animal in animals:\n",
    "    print(animal.speak())\n",
    "    "
   ]
  },
  {
   "cell_type": "code",
   "execution_count": 5,
   "id": "1cd32bc6-d686-4744-8f0a-be226bc0d44c",
   "metadata": {},
   "outputs": [
    {
     "name": "stdout",
     "output_type": "stream",
     "text": [
      "I can walk and run\n",
      "I can crawl\n"
     ]
    }
   ],
   "source": [
    "'''7. Discuss the use of abstract methods and classes in achieving polymorphism in Python. Provide an example\n",
    "using the `abc` module.'''\n",
    "'''ABC works by decorating methods of the base class as an abstract and then registering concrete classes as implementations of the abstract base. \n",
    "A method becomes abstract when decorated with the keyword @abstractmethod.'''\n",
    "from abc import ABC, abstractmethod\n",
    "class Animal(ABC):\n",
    "    def move(self):\n",
    "        pass\n",
    "class Human(Animal):\n",
    "    def move(self):\n",
    "        print(\"I can walk and run\")\n",
    "class Snake(Animal):\n",
    "    def move(self):\n",
    "        print(\"I can crawl\")\n",
    "R = Human()\n",
    "R.move()\n",
    "K = Snake()\n",
    "K.move()"
   ]
  },
  {
   "cell_type": "code",
   "execution_count": null,
   "id": "b8d95732-43e9-4d5b-baf9-3d92ee82506e",
   "metadata": {},
   "outputs": [],
   "source": [
    "#9. Explain the significance of the `isinstance()` and `issubclass()` functions in Python polymorphism.\n",
    "'''The function isinstance () checks whether the object that is passed in its parameters is the subclass of the classinfo mentioned within \n",
    "the parameters.The Python issubclass () function only checks whether a class is a subclass of a supposed parent class.'''\n"
   ]
  },
  {
   "cell_type": "code",
   "execution_count": 2,
   "id": "d885c2a3-2436-44ea-aa20-a7b159d4d80e",
   "metadata": {},
   "outputs": [
    {
     "name": "stdout",
     "output_type": "stream",
     "text": [
      "I have 3 sides\n",
      "I have 5 sides\n"
     ]
    }
   ],
   "source": [
    "#10. What is the role of the `@abstractmethod` decorator in achieving polymorphism in Python? Provide an example.\n",
    "'''ABC works by decorating methods of the base class as an abstract and then registering concrete classes as implementations of the abstract base. \n",
    "A method becomes abstract when decorated with the keyword @abstractmethod.'''\n",
    "from abc import ABC, abstractmethod\n",
    "class Polygon(ABC):\n",
    "    @abstractmethod\n",
    "    def noofsides(self):\n",
    "        pass\n",
    "class Triangle(Polygon):\n",
    "    # overriding abstract method\n",
    "    def noofsides(self):\n",
    "        print(\"I have 3 sides\")\n",
    "class Pentagon(Polygon):\n",
    "    # overriding abstract method\n",
    "    def noofsides(self):\n",
    "        print(\"I have 5 sides\")\n",
    "R = Triangle()\n",
    "R.noofsides()\n",
    "R = Pentagon()\n",
    "R.noofsides()"
   ]
  },
  {
   "cell_type": "code",
   "execution_count": 3,
   "id": "46664be8-b0bd-4f91-9dbd-f0bfe2c692e2",
   "metadata": {},
   "outputs": [
    {
     "name": "stdout",
     "output_type": "stream",
     "text": [
      "the circle area is: 153.93804002589985\n",
      "The rectangle area is: 200\n"
     ]
    }
   ],
   "source": [
    "#11. Create a Python class called `Shape` with a polymorphic method `area()` that calculates the area of different shapes  (e.g., circle, rectangle, triangle).\n",
    "import math\n",
    "class Shape:\n",
    "    def area(self):\n",
    "        pass\n",
    "class Circle(Shape):\n",
    "    def __init__(self,radius):\n",
    "        self.radius=radius\n",
    "    def area(self):\n",
    "        return math.pi*self.radius**2\n",
    "class Rectangle(Shape):\n",
    "    def __init__(self,length,width):\n",
    "        self.length=length\n",
    "        self.width=width\n",
    "    def area(self):\n",
    "        return self.length*self.width\n",
    "c1=Circle(7)\n",
    "Circle_area=c1.area()\n",
    "print(\"the circle area is:\",Circle_area)\n",
    "r1=Rectangle(10,20)\n",
    "Rectangle_area=r1.area()\n",
    "print(\"The rectangle area is:\",Rectangle_area)"
   ]
  },
  {
   "cell_type": "code",
   "execution_count": null,
   "id": "c96ee56e-e7f6-4e27-b9bd-3fc3916d0dc5",
   "metadata": {},
   "outputs": [],
   "source": [
    "#12. Discuss the benefits of polymorphism in terms of code reusability and flexibility in Python programs.\n",
    "'''Code Reusability: Polymorphism allows you to reuse the code written for the base class, reducing redundancy and \n",
    "promoting cleaner, more concise code. \n",
    "Flexibility and Extensibility: With polymorphism, you can add new derived classes\n",
    "without modifying existing code. This makes your codebase more flexible and easily extensible.'''"
   ]
  },
  {
   "cell_type": "code",
   "execution_count": null,
   "id": "dfd2d6eb-e70b-4398-bfb8-c6caaaa562a5",
   "metadata": {},
   "outputs": [],
   "source": [
    "#13. Explain the use of the `super()` function in Python polymorphism. How does it help call methods of parent classes?\n",
    "'''The super() function is used to give access to methods and properties of a parent or sibling class.\n",
    "The super() function returns an object that represents the parent class.'''"
   ]
  },
  {
   "cell_type": "code",
   "execution_count": 5,
   "id": "0b6c8b58-9c4e-47cf-972d-f613913c4aae",
   "metadata": {},
   "outputs": [
    {
     "name": "stdout",
     "output_type": "stream",
     "text": [
      "3\n",
      "pwskills\n"
     ]
    }
   ],
   "source": [
    "#15. Describe the concept of operator overloading in Python and how it relates to polymorphism. Provide examples using operators like `+` and `*`.\n",
    "'''Operator Overloading means giving extended meaning beyond their predefined operational meaning. For example operator + is used to add two integers as well as join two strings \n",
    "and merge two lists. It is achievable because ‘+’ operator is overloaded by int class and str class.'''\n",
    "class A:\n",
    "    def __init__(self, a):\n",
    "        self.a = a\n",
    " \n",
    "    # adding two objects \n",
    "    def __add__(self, o):\n",
    "        return self.a + o.a \n",
    "ob1 = A(1)\n",
    "ob2 = A(2)\n",
    "ob3 = A(\"pw\")\n",
    "ob4 = A(\"skills\")\n",
    "print(ob1 + ob2)\n",
    "print(ob3 + ob4)"
   ]
  },
  {
   "cell_type": "code",
   "execution_count": null,
   "id": "7d9a84db-a03a-4915-8337-e93f13b5efc3",
   "metadata": {},
   "outputs": [],
   "source": [
    "#16. What is dynamic polymorphism, and how is it achieved in Python?\n",
    "'''Polymorphism in python defines methods in the child class that have the same name as the methods in the parent class.\n",
    "In inheritance, the child class inherits the methods from the parent class. Also, it is possible to modify a method in a child class \n",
    "that it has inherited from the parent class.'''\n"
   ]
  },
  {
   "cell_type": "code",
   "execution_count": null,
   "id": "7ab93c61-2b75-4d69-b433-94a48260a769",
   "metadata": {},
   "outputs": [],
   "source": [
    "#18. Discuss the concept of function pointers and how they can be used to achieve polymorphism in Python.\n",
    "'''Polymorphism can be used to allow common behavior with different types, and to let the system choose which function to call based on type and \n",
    "parameter signatures. Function pointers are indicated when a common function such as a sort or a search is to be performed on different criteria.'''"
   ]
  },
  {
   "cell_type": "code",
   "execution_count": null,
   "id": "1f2c368e-5339-4e26-b891-4d3f89b2992b",
   "metadata": {},
   "outputs": [],
   "source": [
    "19. Explain the role of interfaces and abstract classes in polymorphism, drawing comparisons between them.\n",
    "Abstract Class\n",
    "1. All methods of an interface are abstract\n",
    "2.It is used when all the feature need to be implemented differently for different objects\n",
    "3.Any 3rd person will responsible for creating a child class\n",
    "4.It is comparatively slow\n",
    "Interface\n",
    "1. \tAn abstract features developer’s class can consist of abstract as well as concrete methods \t\n",
    "2. \tIt is used when there are some common feature shared by all objects \t\n",
    "3. \tIts developer responsibility to create a child class for the features of an abstract class \t\n",
    "4. \tIt is comparatively fast \t"
   ]
  },
  {
   "cell_type": "code",
   "execution_count": null,
   "id": "651c8c71-5221-4ec7-b0a1-4b471e4a96a8",
   "metadata": {},
   "outputs": [],
   "source": [
    "Abstraction:\n",
    "#1. What is abstraction in Python, and how does it relate to object-oriented programming?\n",
    "'''Abstraction in python is defined as a process of handling complexity by hiding unnecessary information from the user. \n",
    "In object-oriented programming, abstraction is one of three central principles (along with encapsulation and inheritance)'''"
   ]
  },
  {
   "cell_type": "code",
   "execution_count": null,
   "id": "e01b88b3-7ef9-4658-a782-0ea9bfef466b",
   "metadata": {},
   "outputs": [],
   "source": [
    "#2. Describe the benefits of abstraction in terms of code organization and complexity reduction.\n",
    "Advantages of Abstraction\n",
    "It reduces the complexity of viewing the things.\n",
    "Helps to increase security of an application or program as only important details are provided to the user.\n",
    "Avoids code duplication and increases reusability.\n",
    "Can change internal implementation of class independently without affecting the user."
   ]
  },
  {
   "cell_type": "code",
   "execution_count": 16,
   "id": "2a6fdb37-bc2a-4e9f-b2eb-996df5ba9894",
   "metadata": {},
   "outputs": [
    {
     "name": "stdout",
     "output_type": "stream",
     "text": [
      "113.09724\n",
      "35\n"
     ]
    }
   ],
   "source": [
    "'''3. Create a Python class called `Shape` with an abstract method `calculate_area()`. Then, create child classes (e.g., `Circle`, `Rectangle`) that implement the `calculate_area()` method. Provide an example of \n",
    "using these classes.'''\n",
    "from abc import ABC, abstractmethod\n",
    "\n",
    "class Shape(ABC):\n",
    "    @abstractmethod\n",
    "    def area(self):\n",
    "        pass\n",
    "class Circle(Shape):\n",
    "    def __init__(self, radius):\n",
    "        self.radius = radius\n",
    "    def area(self):\n",
    "        return 3.14159 * self.radius ** 2\n",
    "class Rectangle(Shape):\n",
    "    def __init__(self, length, width):\n",
    "        self.length = length\n",
    "        self.width = width\n",
    "\n",
    "    def area(self):\n",
    "        return self.length * self.width\n",
    "circle = Circle(6)\n",
    "rectangle = Rectangle(5,7)\n",
    "print(circle.area())  \n",
    "print(rectangle.area())  "
   ]
  },
  {
   "cell_type": "code",
   "execution_count": 17,
   "id": "64723c83-7efc-468d-84e2-301b8d196551",
   "metadata": {},
   "outputs": [
    {
     "name": "stdout",
     "output_type": "stream",
     "text": [
      "I can walk and run\n",
      "I can crawl\n"
     ]
    }
   ],
   "source": [
    "#4. Explain the concept of abstract classes in Python and how they are defined using the `abc` module. Provide an example.\n",
    "'''An abstract class can be considered a blueprint for other classes. It allows you to create a set of methods that must be created within any child \n",
    "classes built from the abstract class. A class that contains one or more abstract methods is called an abstract class.\n",
    "ABC works by decorating methods of the base class as an abstract and then registering concrete classes as implementations of the abstract base'''\n",
    "from abc import ABC, abstractmethod\n",
    "class Animal(ABC):\n",
    "    def move(self):\n",
    "        pass\n",
    "class Human(Animal):\n",
    "    def move(self):\n",
    "        print(\"I can walk and run\")\n",
    "class Snake(Animal):\n",
    "    def move(self):\n",
    "        print(\"I can crawl\")\n",
    "H=Human()\n",
    "H.move()\n",
    "S=Snake()\n",
    "S.move()\n"
   ]
  },
  {
   "cell_type": "code",
   "execution_count": null,
   "id": "e6a0dee8-e472-41d5-a830-cd410731969b",
   "metadata": {},
   "outputs": [],
   "source": [
    "5. How do abstract classes differ from regular classes in Python? Discuss their use cases.\n",
    "A class is called an Abstract class if it contains one or more abstract methods. An abstract method is a method that is declared,\n",
    "Abstract classes are similar to normal classes, with the difference that they can include abstract methods, which are methods without a body. \n",
    "Abstract classes cannot be instantiated but contains no implementation. Abstract classes may not be instantiated, and its abstract methods must be \n",
    "implemented by its subclasses.\n",
    "An abstract class is mostly used to provide a base for subclasses to extend and implement the abstract methods and override or use the implemented\n",
    "methods in abstract class.\n"
   ]
  },
  {
   "cell_type": "code",
   "execution_count": null,
   "id": "3e67e20e-0b2c-4cb5-b1a8-a4efe055ea9f",
   "metadata": {},
   "outputs": [],
   "source": [
    "7. Discuss the concept of interface classes in Python and their role in achieving abstraction.\n",
    "An abstract class is a template for creating subclasses that define their methods without providing implementation details. \n",
    "On the other hand, an interface allows developers to define what functionality must be provided by each subclass while leaving it up to \n",
    "the subclass to provide its own implementation details.\n"
   ]
  },
  {
   "cell_type": "code",
   "execution_count": 22,
   "id": "8b21e41e-11d7-4ccd-ad1b-ea19e6143aad",
   "metadata": {},
   "outputs": [
    {
     "name": "stdout",
     "output_type": "stream",
     "text": [
      "i can eat grass\n",
      "i can sleep\n",
      "i will drink milk\n",
      "i can sleep at night\n"
     ]
    }
   ],
   "source": [
    "#8. Create a Python class hierarchy for animals and implement abstraction by defining common methods (e.g., `eat()`, `sleep()`) in an abstract base class.\n",
    "from abc import ABC, abstractmethod\n",
    " \n",
    "class Animal(ABC):\n",
    "    @abstractmethod\n",
    "    def eat(self):\n",
    "        pass\n",
    "    @abstractmethod\n",
    "    def sleep(self):\n",
    "        pass\n",
    "class goat(Animal):\n",
    "    def eat(self):\n",
    "        print(\"i can eat grass\")\n",
    "    def sleep(self):\n",
    "        print(\"i can sleep\")\n",
    "class Dog(Animal):\n",
    "    def eat(self):\n",
    "        print(\"i will drink milk\")\n",
    "    def sleep(self):\n",
    "        print(\"i can sleep at night\")\n",
    "g=goat()\n",
    "g.eat()\n",
    "g.sleep()\n",
    "d=Dog()\n",
    "d.eat()\n",
    "d.sleep()\n",
    " "
   ]
  },
  {
   "cell_type": "code",
   "execution_count": null,
   "id": "1037ec97-5e6b-43ae-b9f0-c73fb97ab9df",
   "metadata": {},
   "outputs": [],
   "source": [
    "9. Explain the significance of encapsulation in achieving abstraction. Provide examples.\n",
    "Data abstraction and encapsulation are synonymous as data abstraction is achieved through encapsulation. \n",
    "Abstraction is used to hide internal details and show only functionalities. Abstracting something means to give names to things, \n",
    "so that the name captures the basic idea of what a function or a whole program does.\n"
   ]
  },
  {
   "cell_type": "code",
   "execution_count": null,
   "id": "2b8310fd-6480-458a-95a0-551d13b308eb",
   "metadata": {},
   "outputs": [],
   "source": [
    "10. What is the purpose of abstract methods, and how do they enforce abstraction in Python classes?\n",
    "Abstraction refers to the act of hiding background details from the end-user and only displaying the necessary details needed to carry out the basic operations.\n",
    "Abstraction is one of the key principle of Object Oriented Programming.\n"
   ]
  },
  {
   "cell_type": "code",
   "execution_count": 25,
   "id": "46252aa9-2f6d-4bb4-8148-1e75cfdbe0c3",
   "metadata": {},
   "outputs": [
    {
     "name": "stdout",
     "output_type": "stream",
     "text": [
      "Starting the car\n",
      "Stop the car\n"
     ]
    }
   ],
   "source": [
    "#11. Create a Python class for a vehicle system and demonstrate abstraction by defining common methods (e.g., `start()`, `stop()`) in an abstract base class.\n",
    "from abc import ABC, abstractmethod\n",
    " \n",
    "class Vehicle(ABC):\n",
    "    @abstractmethod\n",
    "    def start(self):\n",
    "        pass\n",
    "    @abstractmethod\n",
    "    def stop(self):\n",
    "        pass\n",
    "class Car(Vehicle):\n",
    "    def start(self):\n",
    "        print(\"Starting the car\")\n",
    "    def stop(self):\n",
    "        print(\"Stop the car\")\n",
    "car_veh=Car()\n",
    "car_veh.start()\n",
    "car_veh.stop()"
   ]
  },
  {
   "cell_type": "code",
   "execution_count": null,
   "id": "c5c042af-a910-43ad-ac9b-07edf3ebabb0",
   "metadata": {},
   "outputs": [],
   "source": [
    "12. Describe the use of abstract properties in Python and how they can be employed in abstract classes.\n",
    "In Python, we can use the abc module or abstract base classes module to implement abstract classes. The abstract base class provides an interface for subclasses, \n",
    "and it is beneficial when the code is large and remembering all the classes is challenging.We need to import the abc module in the base class and use it to decorate the \n",
    "base class method as an abstract. To define an abstract method, we can use the @abstractmethod decorator before defining the method in the base class, and we can use the @property decorator to make a method an abstract property.\n"
   ]
  },
  {
   "cell_type": "code",
   "execution_count": 28,
   "id": "f542cd71-f1a3-4375-89f7-eb77dbdbb613",
   "metadata": {},
   "outputs": [
    {
     "name": "stdout",
     "output_type": "stream",
     "text": [
      "the salary is 800000\n",
      "the salary is 1000000\n",
      "the salary is 900000\n"
     ]
    }
   ],
   "source": [
    "#13. Create a Python class hierarchy for employees in a company (e.g., manager, developer, designer) and implement abstraction by defining a common `get_salary()` method.\n",
    "from abc import ABC, abstractmethod\n",
    "class Company(ABC):\n",
    "    @abstractmethod\n",
    "    def get_salary(self):\n",
    "        pass\n",
    "class Manager(Company):\n",
    "    def get_salary(self):\n",
    "        print(\"the salary is 800000\")\n",
    "class Developer(Company):\n",
    "    def get_salary(self):\n",
    "        print(\"the salary is 1000000\")\n",
    "class Designer(Company):\n",
    "    def get_salary(self):\n",
    "        print(\"the salary is 900000\")\n",
    "\n",
    "p1=Manager()\n",
    "p1.get_salary()\n",
    "p2=Developer()\n",
    "p2.get_salary()\n",
    "p3=Designer()\n",
    "p3.get_salary()"
   ]
  },
  {
   "cell_type": "code",
   "execution_count": null,
   "id": "9fdebc83-5c66-4138-8ff5-0ffc65cd8e00",
   "metadata": {},
   "outputs": [],
   "source": [
    "14. Discuss the differences between abstract classes and concrete classes in Python, including their instantiation.\n",
    "The main difference between Abstract Class and Concrete Class is that it is not possible to create objects using an abstract class while using a concrete class, \n",
    "it is possible to create objects.\n"
   ]
  },
  {
   "cell_type": "code",
   "execution_count": null,
   "id": "c45edbf9-e919-4d31-a99f-f221f84b938e",
   "metadata": {},
   "outputs": [],
   "source": [
    "15. Explain the concept of abstract data types (ADTs) and their role in achieving abstraction in Python.\n",
    "Abstract Data type (ADT) is a type (or class) for objects whose behavior is defined by a set of values and a set of operations. \n",
    "The definition of ADT only mentions what operations are to be performed but not how these operations will be implemented. It does not specify how data will be \n",
    "organized in memory and what algorithms will be used for implementing the operations. It is called “abstract” because it gives an implementation-independent view. \n"
   ]
  },
  {
   "cell_type": "code",
   "execution_count": 32,
   "id": "4c5e3335-6c13-42c6-ad8d-7154ad0c40ea",
   "metadata": {},
   "outputs": [
    {
     "name": "stdout",
     "output_type": "stream",
     "text": [
      "the laptop is on\n",
      "the laptop is shutdown\n"
     ]
    }
   ],
   "source": [
    "#16. Create a Python class for a computer system, demonstrating abstraction by defining common methods (e.g., `power_on()`, `shutdown()`) in an abstract base class.\n",
    "from abc import ABC,abstractmethod\n",
    "class Computer_system(ABC):\n",
    "    @abstractmethod\n",
    "    def power_on(self):\n",
    "        pass\n",
    "    @abstractmethod\n",
    "    def shutdown(self):\n",
    "        pass\n",
    "class Laptop(Computer_system):\n",
    "    def power_on(self):\n",
    "        print(\"the laptop is on\")\n",
    "    def shutdown(self):\n",
    "        print(\"the laptop is shutdown\")\n",
    "l=Laptop()\n",
    "l.power_on()\n",
    "l.shutdown()"
   ]
  },
  {
   "cell_type": "code",
   "execution_count": null,
   "id": "1880652e-023d-4303-930a-a36dedd30963",
   "metadata": {},
   "outputs": [],
   "source": [
    "17. Discuss the benefits of using abstraction in large-scale software development projects.\n",
    "The exercise of abstraction in system development demands more judgment, more scepticism, more insight, more versatility, and more hard work.\n",
    "For example, the non-formal nature of the problem world calls almost every proposed abstraction into question. In a formal world, after the instruction sequence\n"
   ]
  },
  {
   "cell_type": "code",
   "execution_count": null,
   "id": "79a94695-e4a0-4987-85a9-5e9fd7a709d3",
   "metadata": {},
   "outputs": [],
   "source": [
    "18. Explain how abstraction enhances code reusability and modularity in Python programs.\n",
    "This abstraction makes it easier to design modular and well-organized code, makes it simpler to understand and maintain,\n",
    "promotes code reuse, and improves developer collaboration. Data abstraction in Python is a programming concept that hides complex implementation details while\n",
    "exposing only essential information and functionalities to users.\n"
   ]
  },
  {
   "cell_type": "code",
   "execution_count": null,
   "id": "93b131d1-1b96-4f78-857e-be49104991ce",
   "metadata": {},
   "outputs": [],
   "source": [
    "20. Describe the concept of method abstraction in Python and how it relates to polymorphism\n",
    "Polymorphism is an object-oriented mechanism that allows for objects of different types to be used in the same way.\n",
    "Abstraction is the process of separating data from implementation. "
   ]
  },
  {
   "cell_type": "code",
   "execution_count": null,
   "id": "27c9d73e-d5d5-4e88-9c6e-83f843719125",
   "metadata": {},
   "outputs": [],
   "source": [
    "Composition:\n",
    "1. Explain the concept of composition in Python and how it is used to build complex objects from simpler ones.\n",
    "Composition is a concept that models a has a relationship. It enables creating complex types by combining objects of other types. \n",
    "This means that a class Composite can contain an object of another class Component . This relationship means that a Composite has a Component .\n"
   ]
  },
  {
   "cell_type": "code",
   "execution_count": null,
   "id": "a97d575c-8258-49ce-b5cc-d5f5d58df560",
   "metadata": {},
   "outputs": [],
   "source": [
    "2. Describe the difference between composition and inheritance in object-oriented programming.\n",
    "In inheritance, the child class is dependent upon parent class. Whereas in composition, both child class and parent class are independent.\n"
   ]
  },
  {
   "cell_type": "code",
   "execution_count": 4,
   "id": "3665ccfa-827f-4a35-8ce5-447159da2501",
   "metadata": {},
   "outputs": [
    {
     "data": {
      "text/plain": [
       "('santhosh', 1984)"
      ]
     },
     "execution_count": 4,
     "metadata": {},
     "output_type": "execute_result"
    }
   ],
   "source": [
    "#3. Create a Python class called `Author` with attributes for name and birthdate. Then, create a `Book` class that contains an instance of `Author` as a composition. Provide an example of creating a `Book` object.\n",
    "class Author:\n",
    "    def __init__(self,name,birthdate):\n",
    "        self.name=name\n",
    "        self.birthdate=birthdate\n",
    "    def display(self):\n",
    "        return self.name,self.birthdate\n",
    "class Book:\n",
    "    def __init__(self,name,birthdate,bookname):\n",
    "        self.bookname=bookname\n",
    "        self.obj_author=Author(name,birthdate)\n",
    "    def display_date(self):\n",
    "        return self.obj_author.display()      \n",
    "b1=Book(\"santhosh\",1984,\"data science\")\n",
    "b1.display_date()"
   ]
  },
  {
   "cell_type": "code",
   "execution_count": null,
   "id": "a537848a-3972-43db-b695-784c3c2ff0a8",
   "metadata": {},
   "outputs": [],
   "source": [
    "4. Discuss the benefits of using composition over inheritance in Python, especially in terms of code flexibility \n",
    "and reusability.\n",
    "composition offers several advantages over inheritance, including greater flexibility, reduced complexity, and improved maintainability.\n",
    "It can also avoid problems associated with multiple inheritance, such as the \"diamond problem.\" While inheritance still has its place \n",
    "in object-oriented programming."
   ]
  },
  {
   "cell_type": "code",
   "execution_count": null,
   "id": "5a531d40-b5a4-415e-ab04-b65faa7eb60e",
   "metadata": {},
   "outputs": [],
   "source": [
    "5. How can you implement composition in Python classes? Provide examples of using composition to create \n",
    "complex objects.\n",
    "Composition enables you to reuse code by adding objects to other objects, as opposed to inheriting the interface and \n",
    "implementation of other classes.\n"
   ]
  },
  {
   "cell_type": "code",
   "execution_count": null,
   "id": "99cc2bb0-6528-4a79-afff-087afb30f662",
   "metadata": {},
   "outputs": [],
   "source": [
    "#7. Explain the concept of \"has-a\" relationships in composition and how it helps design software systems.\n",
    "'''Composition(HAS-A) simply mean the use of instance variables that are references to other objects'''\n"
   ]
  },
  {
   "cell_type": "code",
   "execution_count": null,
   "id": "37b0bae1-00c7-4aaa-a2ae-90bbd54807ba",
   "metadata": {},
   "outputs": [],
   "source": [
    "9. Describe the concept of \"delegation\" in composition and how it simplifies the design of complex systems.\n",
    "In delegation, two objects are involved in handling a request: a receiving object delegates operations to its delegate. \n",
    "This is analogous to subclasses deferring requests to parent classes."
   ]
  },
  {
   "cell_type": "code",
   "execution_count": null,
   "id": "15e5905b-1e51-4826-b0c2-f720758eddc0",
   "metadata": {},
   "outputs": [],
   "source": [
    "#15 How can you encapsulate and hide the details of composed objects in Python classes to maintain \n",
    "abstraction?\n",
    "In Python, there is no existence of Private instance variables that cannot be accessed except inside a class. However, \n",
    "to define a private member prefix the member name with double underscore “__”.\n"
   ]
  },
  {
   "cell_type": "code",
   "execution_count": null,
   "id": "7fdd1475-3772-4bed-b111-60889ce159fd",
   "metadata": {},
   "outputs": [],
   "source": [
    "#19. Discuss the challenges and drawbacks of composition, such as increased complexity and potential for tight coupling between objects.\n",
    "What are the drawbacks of composition?\n",
    "The disadvantage of object composition is that the behavior of the system may be harder to understand just by looking at the source code. \n",
    "A system using object composition may be very dynamic in nature so it may require running the system to get a deeper understanding of how \n",
    "the different objects cooperate.\n"
   ]
  },
  {
   "cell_type": "code",
   "execution_count": null,
   "id": "dbbc4460-bffd-4b4d-8a32-06a50505fbf9",
   "metadata": {},
   "outputs": [],
   "source": [
    "20Describe the concept of \"aggregation\" in composition and how it differs from simple composition.\n",
    "Aggregation can be described as a “Has-a” relationship, which denotes the association between objects. \n",
    "Composition means one object is contained in another object. It is a special type of aggregation (i.e. Has-a relationship), \n",
    "which implies one object is the owner of another object, which can be called an ownership association.\n"
   ]
  }
 ],
 "metadata": {
  "kernelspec": {
   "display_name": "Python 3 (ipykernel)",
   "language": "python",
   "name": "python3"
  },
  "language_info": {
   "codemirror_mode": {
    "name": "ipython",
    "version": 3
   },
   "file_extension": ".py",
   "mimetype": "text/x-python",
   "name": "python",
   "nbconvert_exporter": "python",
   "pygments_lexer": "ipython3",
   "version": "3.10.8"
  }
 },
 "nbformat": 4,
 "nbformat_minor": 5
}
